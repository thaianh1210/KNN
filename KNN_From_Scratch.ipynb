{
  "nbformat": 4,
  "nbformat_minor": 0,
  "metadata": {
    "colab": {
      "provenance": [],
      "gpuType": "T4",
      "authorship_tag": "ABX9TyMpEknrCIn9HznD0+/ZczSY",
      "include_colab_link": true
    },
    "kernelspec": {
      "name": "python3",
      "display_name": "Python 3"
    },
    "language_info": {
      "name": "python"
    },
    "accelerator": "GPU"
  },
  "cells": [
    {
      "cell_type": "markdown",
      "metadata": {
        "id": "view-in-github",
        "colab_type": "text"
      },
      "source": [
        "<a href=\"https://colab.research.google.com/github/thaianh1210/KNN/blob/main/KNN_From_Scratch.ipynb\" target=\"_parent\"><img src=\"https://colab.research.google.com/assets/colab-badge.svg\" alt=\"Open In Colab\"/></a>"
      ]
    },
    {
      "cell_type": "code",
      "execution_count": 5,
      "metadata": {
        "id": "ODC4ICFOtK0b"
      },
      "outputs": [],
      "source": [
        "import csv\n",
        "import numpy as np\n",
        "import math"
      ]
    },
    {
      "cell_type": "code",
      "source": [
        "file = open(\"/content/Iris (2).csv\", \"r\")\n",
        "dataset = csv.reader(file)\n",
        "dataset = np.array(list(dataset))\n",
        "dataset = np.delete(dataset, 0, 0)\n",
        "dataset = np.delete(dataset, 0, 1)\n",
        "file.close()\n",
        "\n",
        "trainingSet = dataset[:149]\n",
        "testingSet = dataset[149:]"
      ],
      "metadata": {
        "id": "lS05tHN6tST2"
      },
      "execution_count": 6,
      "outputs": []
    },
    {
      "cell_type": "code",
      "source": [
        "print(trainingSet)"
      ],
      "metadata": {
        "colab": {
          "base_uri": "https://localhost:8080/"
        },
        "id": "05kjJ7i13e7x",
        "outputId": "45e68808-72b6-4093-a371-5b057c23b489"
      },
      "execution_count": 7,
      "outputs": [
        {
          "output_type": "stream",
          "name": "stdout",
          "text": [
            "[['5.1' '3.5' '1.4' '0.2' 'Iris-setosa']\n",
            " ['4.9' '3.0' '1.4' '0.2' 'Iris-setosa']\n",
            " ['4.7' '3.2' '1.3' '0.2' 'Iris-setosa']\n",
            " ['4.6' '3.1' '1.5' '0.2' 'Iris-setosa']\n",
            " ['5.0' '3.6' '1.4' '0.2' 'Iris-setosa']\n",
            " ['5.4' '3.9' '1.7' '0.4' 'Iris-setosa']\n",
            " ['4.6' '3.4' '1.4' '0.3' 'Iris-setosa']\n",
            " ['5.0' '3.4' '1.5' '0.2' 'Iris-setosa']\n",
            " ['4.4' '2.9' '1.4' '0.2' 'Iris-setosa']\n",
            " ['4.9' '3.1' '1.5' '0.1' 'Iris-setosa']\n",
            " ['5.4' '3.7' '1.5' '0.2' 'Iris-setosa']\n",
            " ['4.8' '3.4' '1.6' '0.2' 'Iris-setosa']\n",
            " ['4.8' '3.0' '1.4' '0.1' 'Iris-setosa']\n",
            " ['4.3' '3.0' '1.1' '0.1' 'Iris-setosa']\n",
            " ['5.8' '4.0' '1.2' '0.2' 'Iris-setosa']\n",
            " ['5.7' '4.4' '1.5' '0.4' 'Iris-setosa']\n",
            " ['5.4' '3.9' '1.3' '0.4' 'Iris-setosa']\n",
            " ['5.1' '3.5' '1.4' '0.3' 'Iris-setosa']\n",
            " ['5.7' '3.8' '1.7' '0.3' 'Iris-setosa']\n",
            " ['5.1' '3.8' '1.5' '0.3' 'Iris-setosa']\n",
            " ['5.4' '3.4' '1.7' '0.2' 'Iris-setosa']\n",
            " ['5.1' '3.7' '1.5' '0.4' 'Iris-setosa']\n",
            " ['4.6' '3.6' '1.0' '0.2' 'Iris-setosa']\n",
            " ['5.1' '3.3' '1.7' '0.5' 'Iris-setosa']\n",
            " ['4.8' '3.4' '1.9' '0.2' 'Iris-setosa']\n",
            " ['5.0' '3.0' '1.6' '0.2' 'Iris-setosa']\n",
            " ['5.0' '3.4' '1.6' '0.4' 'Iris-setosa']\n",
            " ['5.2' '3.5' '1.5' '0.2' 'Iris-setosa']\n",
            " ['5.2' '3.4' '1.4' '0.2' 'Iris-setosa']\n",
            " ['4.7' '3.2' '1.6' '0.2' 'Iris-setosa']\n",
            " ['4.8' '3.1' '1.6' '0.2' 'Iris-setosa']\n",
            " ['5.4' '3.4' '1.5' '0.4' 'Iris-setosa']\n",
            " ['5.2' '4.1' '1.5' '0.1' 'Iris-setosa']\n",
            " ['5.5' '4.2' '1.4' '0.2' 'Iris-setosa']\n",
            " ['4.9' '3.1' '1.5' '0.1' 'Iris-setosa']\n",
            " ['5.0' '3.2' '1.2' '0.2' 'Iris-setosa']\n",
            " ['5.5' '3.5' '1.3' '0.2' 'Iris-setosa']\n",
            " ['4.9' '3.1' '1.5' '0.1' 'Iris-setosa']\n",
            " ['4.4' '3.0' '1.3' '0.2' 'Iris-setosa']\n",
            " ['5.1' '3.4' '1.5' '0.2' 'Iris-setosa']\n",
            " ['5.0' '3.5' '1.3' '0.3' 'Iris-setosa']\n",
            " ['4.5' '2.3' '1.3' '0.3' 'Iris-setosa']\n",
            " ['4.4' '3.2' '1.3' '0.2' 'Iris-setosa']\n",
            " ['5.0' '3.5' '1.6' '0.6' 'Iris-setosa']\n",
            " ['5.1' '3.8' '1.9' '0.4' 'Iris-setosa']\n",
            " ['4.8' '3.0' '1.4' '0.3' 'Iris-setosa']\n",
            " ['5.1' '3.8' '1.6' '0.2' 'Iris-setosa']\n",
            " ['4.6' '3.2' '1.4' '0.2' 'Iris-setosa']\n",
            " ['5.3' '3.7' '1.5' '0.2' 'Iris-setosa']\n",
            " ['5.0' '3.3' '1.4' '0.2' 'Iris-setosa']\n",
            " ['7.0' '3.2' '4.7' '1.4' 'Iris-versicolor']\n",
            " ['6.4' '3.2' '4.5' '1.5' 'Iris-versicolor']\n",
            " ['6.9' '3.1' '4.9' '1.5' 'Iris-versicolor']\n",
            " ['5.5' '2.3' '4.0' '1.3' 'Iris-versicolor']\n",
            " ['6.5' '2.8' '4.6' '1.5' 'Iris-versicolor']\n",
            " ['5.7' '2.8' '4.5' '1.3' 'Iris-versicolor']\n",
            " ['6.3' '3.3' '4.7' '1.6' 'Iris-versicolor']\n",
            " ['4.9' '2.4' '3.3' '1.0' 'Iris-versicolor']\n",
            " ['6.6' '2.9' '4.6' '1.3' 'Iris-versicolor']\n",
            " ['5.2' '2.7' '3.9' '1.4' 'Iris-versicolor']\n",
            " ['5.0' '2.0' '3.5' '1.0' 'Iris-versicolor']\n",
            " ['5.9' '3.0' '4.2' '1.5' 'Iris-versicolor']\n",
            " ['6.0' '2.2' '4.0' '1.0' 'Iris-versicolor']\n",
            " ['6.1' '2.9' '4.7' '1.4' 'Iris-versicolor']\n",
            " ['5.6' '2.9' '3.6' '1.3' 'Iris-versicolor']\n",
            " ['6.7' '3.1' '4.4' '1.4' 'Iris-versicolor']\n",
            " ['5.6' '3.0' '4.5' '1.5' 'Iris-versicolor']\n",
            " ['5.8' '2.7' '4.1' '1.0' 'Iris-versicolor']\n",
            " ['6.2' '2.2' '4.5' '1.5' 'Iris-versicolor']\n",
            " ['5.6' '2.5' '3.9' '1.1' 'Iris-versicolor']\n",
            " ['5.9' '3.2' '4.8' '1.8' 'Iris-versicolor']\n",
            " ['6.1' '2.8' '4.0' '1.3' 'Iris-versicolor']\n",
            " ['6.3' '2.5' '4.9' '1.5' 'Iris-versicolor']\n",
            " ['6.1' '2.8' '4.7' '1.2' 'Iris-versicolor']\n",
            " ['6.4' '2.9' '4.3' '1.3' 'Iris-versicolor']\n",
            " ['6.6' '3.0' '4.4' '1.4' 'Iris-versicolor']\n",
            " ['6.8' '2.8' '4.8' '1.4' 'Iris-versicolor']\n",
            " ['6.7' '3.0' '5.0' '1.7' 'Iris-versicolor']\n",
            " ['6.0' '2.9' '4.5' '1.5' 'Iris-versicolor']\n",
            " ['5.7' '2.6' '3.5' '1.0' 'Iris-versicolor']\n",
            " ['5.5' '2.4' '3.8' '1.1' 'Iris-versicolor']\n",
            " ['5.5' '2.4' '3.7' '1.0' 'Iris-versicolor']\n",
            " ['5.8' '2.7' '3.9' '1.2' 'Iris-versicolor']\n",
            " ['6.0' '2.7' '5.1' '1.6' 'Iris-versicolor']\n",
            " ['5.4' '3.0' '4.5' '1.5' 'Iris-versicolor']\n",
            " ['6.0' '3.4' '4.5' '1.6' 'Iris-versicolor']\n",
            " ['6.7' '3.1' '4.7' '1.5' 'Iris-versicolor']\n",
            " ['6.3' '2.3' '4.4' '1.3' 'Iris-versicolor']\n",
            " ['5.6' '3.0' '4.1' '1.3' 'Iris-versicolor']\n",
            " ['5.5' '2.5' '4.0' '1.3' 'Iris-versicolor']\n",
            " ['5.5' '2.6' '4.4' '1.2' 'Iris-versicolor']\n",
            " ['6.1' '3.0' '4.6' '1.4' 'Iris-versicolor']\n",
            " ['5.8' '2.6' '4.0' '1.2' 'Iris-versicolor']\n",
            " ['5.0' '2.3' '3.3' '1.0' 'Iris-versicolor']\n",
            " ['5.6' '2.7' '4.2' '1.3' 'Iris-versicolor']\n",
            " ['5.7' '3.0' '4.2' '1.2' 'Iris-versicolor']\n",
            " ['5.7' '2.9' '4.2' '1.3' 'Iris-versicolor']\n",
            " ['6.2' '2.9' '4.3' '1.3' 'Iris-versicolor']\n",
            " ['5.1' '2.5' '3.0' '1.1' 'Iris-versicolor']\n",
            " ['5.7' '2.8' '4.1' '1.3' 'Iris-versicolor']\n",
            " ['6.3' '3.3' '6.0' '2.5' 'Iris-virginica']\n",
            " ['5.8' '2.7' '5.1' '1.9' 'Iris-virginica']\n",
            " ['7.1' '3.0' '5.9' '2.1' 'Iris-virginica']\n",
            " ['6.3' '2.9' '5.6' '1.8' 'Iris-virginica']\n",
            " ['6.5' '3.0' '5.8' '2.2' 'Iris-virginica']\n",
            " ['7.6' '3.0' '6.6' '2.1' 'Iris-virginica']\n",
            " ['4.9' '2.5' '4.5' '1.7' 'Iris-virginica']\n",
            " ['7.3' '2.9' '6.3' '1.8' 'Iris-virginica']\n",
            " ['6.7' '2.5' '5.8' '1.8' 'Iris-virginica']\n",
            " ['7.2' '3.6' '6.1' '2.5' 'Iris-virginica']\n",
            " ['6.5' '3.2' '5.1' '2.0' 'Iris-virginica']\n",
            " ['6.4' '2.7' '5.3' '1.9' 'Iris-virginica']\n",
            " ['6.8' '3.0' '5.5' '2.1' 'Iris-virginica']\n",
            " ['5.7' '2.5' '5.0' '2.0' 'Iris-virginica']\n",
            " ['5.8' '2.8' '5.1' '2.4' 'Iris-virginica']\n",
            " ['6.4' '3.2' '5.3' '2.3' 'Iris-virginica']\n",
            " ['6.5' '3.0' '5.5' '1.8' 'Iris-virginica']\n",
            " ['7.7' '3.8' '6.7' '2.2' 'Iris-virginica']\n",
            " ['7.7' '2.6' '6.9' '2.3' 'Iris-virginica']\n",
            " ['6.0' '2.2' '5.0' '1.5' 'Iris-virginica']\n",
            " ['6.9' '3.2' '5.7' '2.3' 'Iris-virginica']\n",
            " ['5.6' '2.8' '4.9' '2.0' 'Iris-virginica']\n",
            " ['7.7' '2.8' '6.7' '2.0' 'Iris-virginica']\n",
            " ['6.3' '2.7' '4.9' '1.8' 'Iris-virginica']\n",
            " ['6.7' '3.3' '5.7' '2.1' 'Iris-virginica']\n",
            " ['7.2' '3.2' '6.0' '1.8' 'Iris-virginica']\n",
            " ['6.2' '2.8' '4.8' '1.8' 'Iris-virginica']\n",
            " ['6.1' '3.0' '4.9' '1.8' 'Iris-virginica']\n",
            " ['6.4' '2.8' '5.6' '2.1' 'Iris-virginica']\n",
            " ['7.2' '3.0' '5.8' '1.6' 'Iris-virginica']\n",
            " ['7.4' '2.8' '6.1' '1.9' 'Iris-virginica']\n",
            " ['7.9' '3.8' '6.4' '2.0' 'Iris-virginica']\n",
            " ['6.4' '2.8' '5.6' '2.2' 'Iris-virginica']\n",
            " ['6.3' '2.8' '5.1' '1.5' 'Iris-virginica']\n",
            " ['6.1' '2.6' '5.6' '1.4' 'Iris-virginica']\n",
            " ['7.7' '3.0' '6.1' '2.3' 'Iris-virginica']\n",
            " ['6.3' '3.4' '5.6' '2.4' 'Iris-virginica']\n",
            " ['6.4' '3.1' '5.5' '1.8' 'Iris-virginica']\n",
            " ['6.0' '3.0' '4.8' '1.8' 'Iris-virginica']\n",
            " ['6.9' '3.1' '5.4' '2.1' 'Iris-virginica']\n",
            " ['6.7' '3.1' '5.6' '2.4' 'Iris-virginica']\n",
            " ['6.9' '3.1' '5.1' '2.3' 'Iris-virginica']\n",
            " ['5.8' '2.7' '5.1' '1.9' 'Iris-virginica']\n",
            " ['6.8' '3.2' '5.9' '2.3' 'Iris-virginica']\n",
            " ['6.7' '3.3' '5.7' '2.5' 'Iris-virginica']\n",
            " ['6.7' '3.0' '5.2' '2.3' 'Iris-virginica']\n",
            " ['6.3' '2.5' '5.0' '1.9' 'Iris-virginica']\n",
            " ['6.5' '3.0' '5.2' '2.0' 'Iris-virginica']\n",
            " ['6.2' '3.4' '5.4' '2.3' 'Iris-virginica']]\n"
          ]
        }
      ]
    },
    {
      "cell_type": "code",
      "source": [
        "def computeDistance(Point1, Point2):\n",
        "  result = 0\n",
        "  for i in range(4):\n",
        "    result += (float(Point1[i]) - float(Point2[i])) ** 2\n",
        "    return math.sqrt(result)"
      ],
      "metadata": {
        "id": "ehV5c9PIto8L"
      },
      "execution_count": 8,
      "outputs": []
    },
    {
      "cell_type": "code",
      "source": [
        "def computeKNearestNeighbor(trainingset, item, k):\n",
        "  distances = []\n",
        "  for dataPoint in trainingset:\n",
        "    distances.append(\n",
        "        {\n",
        "            \"label\" : dataPoint[-1],\n",
        "            \"value\" : computeDistance(item, dataPoint)\n",
        "        }\n",
        "    )\n",
        "  distances.sort(key = lambda x : x[\"value\"])\n",
        "  labels = [item[\"label\"] for item in distances]\n",
        "  return labels[:k]"
      ],
      "metadata": {
        "id": "EJ9iEEtjwvOD"
      },
      "execution_count": 9,
      "outputs": []
    },
    {
      "cell_type": "code",
      "source": [
        "def voteTheDistance(array):\n",
        "  labels = set(array)\n",
        "  result = \"\"\n",
        "  maxOccur = 0\n",
        "  for label in labels:\n",
        "    num = array.count(label)\n",
        "    if num > maxOccur:\n",
        "      maxOccur = num\n",
        "      result = label\n",
        "  return result\n",
        ""
      ],
      "metadata": {
        "id": "ku4sWHTP2EhX"
      },
      "execution_count": 10,
      "outputs": []
    },
    {
      "cell_type": "code",
      "source": [
        "print(testingSet)"
      ],
      "metadata": {
        "colab": {
          "base_uri": "https://localhost:8080/"
        },
        "id": "G8DPoECn3ESO",
        "outputId": "76f7cd35-7a87-4538-d115-96e29a7d32bf"
      },
      "execution_count": 11,
      "outputs": [
        {
          "output_type": "stream",
          "name": "stdout",
          "text": [
            "[['5.9' '3.0' '5.1' '1.8' 'Iris-virginica']]\n"
          ]
        }
      ]
    },
    {
      "cell_type": "code",
      "source": [
        "k = 5\n",
        "# print(testingSet)\n",
        "for item in testingSet:\n",
        "  knn = computeKNearestNeighbor(trainingSet, item, k)\n",
        "  result = voteTheDistance(knn)\n",
        "  print(\"GT = \", item[-1], \", Prediction: =\", result)"
      ],
      "metadata": {
        "colab": {
          "base_uri": "https://localhost:8080/"
        },
        "id": "SrTYITOq2X-A",
        "outputId": "d9c59ab4-514a-4bc9-ad1a-8a94b8cbacaa"
      },
      "execution_count": 12,
      "outputs": [
        {
          "output_type": "stream",
          "name": "stdout",
          "text": [
            "GT =  Iris-virginica , Prediction: = Iris-versicolor\n"
          ]
        }
      ]
    }
  ]
}